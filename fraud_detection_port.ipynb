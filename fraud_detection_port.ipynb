{
  "cells": [
    {
      "source": [
        "![headers_fraud-prev](headers_fraud-prev.jpg)\n"
      ],
      "metadata": {
        "id": "ee695434-e105-4809-ad9f-ab0e529f9052"
      },
      "id": "ee695434-e105-4809-ad9f-ab0e529f9052",
      "cell_type": "markdown"
    },
    {
      "source": [
        "### 🔍 **Scenario: Accurately Predict Instances of Credit Card Fraud**\n",
        "\n",
        "This scenario helps you develop an end-to-end project for your portfolio.\n",
        "\n",
        "**Background:** A new credit card company has just entered the market in the western United States. The company is promoting itself as one of the safest credit cards to use. They have hired you as their data scientist in charge of identifying instances of fraud. The executive who hired you has have provided you with data on credit card transactions, including whether or not each transaction was fraudulent.\n",
        "\n",
        "**Objective:** The executive wants to know how accurately you can predict fraud using this data. She has stressed that the model should err on the side of caution: it is not a big problem to flag transactions as fraudulent when they aren't just to be safe. In your report, you will need to describe how well your model functions and how it adheres to these criteria.\n",
        "\n",
        "You will need to prepare a report that is accessible to a broad audience. It will need to outline your motivation, analysis steps, findings, and conclusions."
      ],
      "metadata": {
        "id": "74df9d67-90cd-4332-baa5-4d46612a092f"
      },
      "id": "74df9d67-90cd-4332-baa5-4d46612a092f",
      "cell_type": "markdown"
    },
    {
      "cell_type": "code",
      "source": [
        "# install the important modules\n",
        "! pip install -U pandas numpy matplotlib seaborn scikit-learn xgboost imblearn scipy geopy datetime"
      ],
      "metadata": {
        "colab": {
          "base_uri": "https://localhost:8080/"
        },
        "id": "ELU2wfd6P8hK",
        "outputId": "6cad7046-3c94-487e-cc7a-d7367cdf2855"
      },
      "id": "ELU2wfd6P8hK",
      "execution_count": 1,
      "outputs": [
        {
          "output_type": "stream",
          "name": "stdout",
          "text": [
            "Requirement already satisfied: pandas in /usr/local/lib/python3.12/dist-packages (2.3.3)\n",
            "Requirement already satisfied: numpy in /usr/local/lib/python3.12/dist-packages (2.3.3)\n",
            "Requirement already satisfied: matplotlib in /usr/local/lib/python3.12/dist-packages (3.10.6)\n",
            "Requirement already satisfied: seaborn in /usr/local/lib/python3.12/dist-packages (0.13.2)\n",
            "Requirement already satisfied: scikit-learn in /usr/local/lib/python3.12/dist-packages (1.7.2)\n",
            "Requirement already satisfied: xgboost in /usr/local/lib/python3.12/dist-packages (3.0.5)\n",
            "Requirement already satisfied: imblearn in /usr/local/lib/python3.12/dist-packages (0.0)\n",
            "Requirement already satisfied: scipy in /usr/local/lib/python3.12/dist-packages (1.16.2)\n",
            "Requirement already satisfied: geopy in /usr/local/lib/python3.12/dist-packages (2.4.1)\n",
            "Requirement already satisfied: datetime in /usr/local/lib/python3.12/dist-packages (5.5)\n",
            "Requirement already satisfied: python-dateutil>=2.8.2 in /usr/local/lib/python3.12/dist-packages (from pandas) (2.9.0.post0)\n",
            "Requirement already satisfied: pytz>=2020.1 in /usr/local/lib/python3.12/dist-packages (from pandas) (2025.2)\n",
            "Requirement already satisfied: tzdata>=2022.7 in /usr/local/lib/python3.12/dist-packages (from pandas) (2025.2)\n",
            "Requirement already satisfied: contourpy>=1.0.1 in /usr/local/lib/python3.12/dist-packages (from matplotlib) (1.3.3)\n",
            "Requirement already satisfied: cycler>=0.10 in /usr/local/lib/python3.12/dist-packages (from matplotlib) (0.12.1)\n",
            "Requirement already satisfied: fonttools>=4.22.0 in /usr/local/lib/python3.12/dist-packages (from matplotlib) (4.60.1)\n",
            "Requirement already satisfied: kiwisolver>=1.3.1 in /usr/local/lib/python3.12/dist-packages (from matplotlib) (1.4.9)\n",
            "Requirement already satisfied: packaging>=20.0 in /usr/local/lib/python3.12/dist-packages (from matplotlib) (25.0)\n",
            "Requirement already satisfied: pillow>=8 in /usr/local/lib/python3.12/dist-packages (from matplotlib) (11.3.0)\n",
            "Requirement already satisfied: pyparsing>=2.3.1 in /usr/local/lib/python3.12/dist-packages (from matplotlib) (3.2.5)\n",
            "Requirement already satisfied: joblib>=1.2.0 in /usr/local/lib/python3.12/dist-packages (from scikit-learn) (1.5.2)\n",
            "Requirement already satisfied: threadpoolctl>=3.1.0 in /usr/local/lib/python3.12/dist-packages (from scikit-learn) (3.6.0)\n",
            "Requirement already satisfied: nvidia-nccl-cu12 in /usr/local/lib/python3.12/dist-packages (from xgboost) (2.27.3)\n",
            "Requirement already satisfied: imbalanced-learn in /usr/local/lib/python3.12/dist-packages (from imblearn) (0.14.0)\n",
            "Requirement already satisfied: geographiclib<3,>=1.52 in /usr/local/lib/python3.12/dist-packages (from geopy) (2.1)\n",
            "Requirement already satisfied: zope.interface in /usr/local/lib/python3.12/dist-packages (from datetime) (8.0.1)\n",
            "Requirement already satisfied: six>=1.5 in /usr/local/lib/python3.12/dist-packages (from python-dateutil>=2.8.2->pandas) (1.17.0)\n"
          ]
        }
      ]
    },
    {
      "cell_type": "code",
      "source": [
        "data_source = https://www.google.com/url?q=https%3A%2F%2Fwww.kaggle.com%2Fkartik2112%2Ffraud-detection%3Fselect%3DfraudTrain.csv"
      ],
      "metadata": {
        "id": "Kt0V71-yi9u9"
      },
      "id": "Kt0V71-yi9u9",
      "execution_count": null,
      "outputs": []
    },
    {
      "source": [
        "# import the useful packages\n",
        "import pandas as pd\n",
        "import numpy as np\n",
        "import matplotlib.pyplot as plt\n",
        "import seaborn as sns\n",
        "from datetime import date, datetime\n",
        "from geopy.distance import geodesic\n",
        "from imblearn.over_sampling import SMOTE\n",
        "from xgboost import XGBClassifier\n",
        "from sklearn.model_selection import GridSearchCV, train_test_split\n",
        "from sklearn.ensemble import RandomForestClassifier\n",
        "from sklearn.metrics import confusion_matrix, roc_auc_score, precision_recall_curve,classification_report\n",
        "from sklearn.model_selection import train_test_split, GridSearchCV,RandomizedSearchCV\n",
        "from imblearn.over_sampling import SMOTE\n",
        "from imblearn.pipeline import Pipeline\n",
        "from scipy.stats import randint, uniform"
      ],
      "metadata": {
        "executionCancelledAt": null,
        "executionTime": 46,
        "lastExecutedAt": 1759703314627,
        "lastExecutedByKernel": "6568b305-0a99-496c-84b0-22f4c8a17995",
        "lastScheduledRunId": null,
        "lastSuccessfullyExecutedCode": "import pandas as pd \nimport numpy as np\nimport matplotlib.pyplot as plt\nimport seaborn as sns \nfrom datetime import date, datetime\nfrom geopy.distance import geodesic",
        "id": "inclusive-leeds"
      },
      "id": "inclusive-leeds",
      "cell_type": "code",
      "execution_count": 44,
      "outputs": []
    },
    {
      "source": [
        "## Data Dictionary\n",
        "\n",
        "| transdatetrans_time | Transaction DateTime                        |\n",
        "|---------------------|---------------------------------------------|\n",
        "| merchant            | Merchant Name                               |\n",
        "| category            | Category of Merchant                        |\n",
        "| amt                 | Amount of Transaction                       |\n",
        "| city                | City of Credit Card Holder                  |\n",
        "| state               | State of Credit Card Holder                 |\n",
        "| lat                 | Latitude Location of Purchase               |\n",
        "| long                | Longitude Location of Purchase              |\n",
        "| city_pop            | Credit Card Holder's City Population        |\n",
        "| job                 | Job of Credit Card Holder                   |\n",
        "| dob                 | Date of Birth of Credit Card Holder         |\n",
        "| trans_num           | Transaction Number                          |\n",
        "| merch_lat           | Latitude Location of Merchant               |\n",
        "| merch_long          | Longitude Location of Merchant              |\n",
        "| is_fraud            | Whether Transaction is Fraud (1) or Not (0) |"
      ],
      "metadata": {
        "id": "79fbba19-d197-4a48-a01b-db4e78a02282"
      },
      "id": "79fbba19-d197-4a48-a01b-db4e78a02282",
      "cell_type": "markdown"
    },
    {
      "source": [
        "# import the data\n",
        "df = pd.read_csv(\"/credit_card_fraud (1).csv\", index_col=\"trans_date_trans_time\")\n",
        "df = df.sort_index()\n",
        "df.head(100)"
      ],
      "metadata": {
        "executionCancelledAt": null,
        "executionTime": 878,
        "lastExecutedAt": 1759703315506,
        "lastExecutedByKernel": "6568b305-0a99-496c-84b0-22f4c8a17995",
        "lastScheduledRunId": null,
        "lastSuccessfullyExecutedCode": "# import the data\ndf = pd.read_csv(\"credit_card_fraud.csv\", index_col=\"trans_date_trans_time\")\ndf = df.sort_index()\ndf.head(100)",
        "outputsMetadata": {
          "0": {
            "height": 550,
            "type": "dataFrame",
            "tableState": {
              "customFilter": {
                "const": {
                  "type": "boolean",
                  "valid": true,
                  "value": true
                },
                "id": "62b8a1dd-6650-4a9e-a4b7-288bb8f9d04c",
                "nodeType": "const"
              },
              "quickFilterText": ""
            }
          }
        },
        "colab": {
          "base_uri": "https://localhost:8080/",
          "height": 753
        },
        "id": "d66d031c-6247-4994-85d9-476b9b4358d6",
        "outputId": "fe36ab17-c7b1-4b83-f1af-d33c618a7fb5"
      },
      "cell_type": "code",
      "id": "d66d031c-6247-4994-85d9-476b9b4358d6",
      "outputs": [
        {
          "output_type": "execute_result",
          "data": {
            "text/plain": [
              "                                        merchant       category     amt  \\\n",
              "trans_date_trans_time                                                     \n",
              "2019-01-01 00:00:44    Heller, Gutmann and Zieme    grocery_pos  107.23   \n",
              "2019-01-01 00:00:51               Lind-Buckridge  entertainment  220.11   \n",
              "2019-01-01 00:07:27                    Kiehn Inc    grocery_pos   96.29   \n",
              "2019-01-01 00:09:03                  Beier-Hyatt   shopping_pos    7.77   \n",
              "2019-01-01 00:21:32                   Bruen-Yost       misc_pos    6.85   \n",
              "...                                          ...            ...     ...   \n",
              "2019-01-01 06:20:49                 Hudson-Ratke    grocery_pos  199.55   \n",
              "2019-01-01 06:24:47                   Harber Inc  gas_transport   94.48   \n",
              "2019-01-01 06:25:07                    Berge LLC  gas_transport   79.39   \n",
              "2019-01-01 06:25:40                    Pagac LLC   shopping_pos    5.05   \n",
              "2019-01-01 06:32:36             Erdman-Kertzmann  gas_transport   69.72   \n",
              "\n",
              "                                           city state      lat      long  \\\n",
              "trans_date_trans_time                                                      \n",
              "2019-01-01 00:00:44                      Orient    WA  48.8878 -118.2105   \n",
              "2019-01-01 00:00:51                  Malad City    ID  42.1808 -112.2620   \n",
              "2019-01-01 00:07:27                     Grenada    CA  41.6125 -122.5258   \n",
              "2019-01-01 00:09:03    High Rolls Mountain Park    NM  32.9396 -105.8189   \n",
              "2019-01-01 00:21:32                     Freedom    WY  43.0172 -111.0292   \n",
              "...                                         ...   ...      ...       ...   \n",
              "2019-01-01 06:20:49                   Littleton    CO  39.5994 -105.0044   \n",
              "2019-01-01 06:24:47                      Orient    WA  48.8878 -118.2105   \n",
              "2019-01-01 06:25:07                        Mesa    ID  44.6255 -116.4493   \n",
              "2019-01-01 06:25:40                Powell Butte    OR  44.2415 -121.0113   \n",
              "2019-01-01 06:32:36                       Utica    MO  39.7417  -93.6289   \n",
              "\n",
              "                       city_pop                                job  \\\n",
              "trans_date_trans_time                                                \n",
              "2019-01-01 00:00:44         149  Special educational needs teacher   \n",
              "2019-01-01 00:00:51        4154        Nature conservation officer   \n",
              "2019-01-01 00:07:27         589                    Systems analyst   \n",
              "2019-01-01 00:09:03         899                    Naval architect   \n",
              "2019-01-01 00:21:32         471          Education officer, museum   \n",
              "...                         ...                                ...   \n",
              "2019-01-01 06:20:49      320420                     Water engineer   \n",
              "2019-01-01 06:24:47         149  Special educational needs teacher   \n",
              "2019-01-01 06:25:07         129                       Cartographer   \n",
              "2019-01-01 06:25:40        2016           Local government officer   \n",
              "2019-01-01 06:32:36         271            Land/geomatics surveyor   \n",
              "\n",
              "                              dob                         trans_num  \\\n",
              "trans_date_trans_time                                                 \n",
              "2019-01-01 00:00:44    1978-06-21  1f76529f8574734946361c461b024d99   \n",
              "2019-01-01 00:00:51    1962-01-19  a1a22d70485983eac12b5b88dad1cf95   \n",
              "2019-01-01 00:07:27    1945-12-21  413636e759663f264aae1819a4d4f231   \n",
              "2019-01-01 00:09:03    1967-08-30  8a6293af5ed278dea14448ded2685fea   \n",
              "2019-01-01 00:21:32    1967-08-02  f3c43d336e92a44fc2fb67058d5949e3   \n",
              "...                           ...                               ...   \n",
              "2019-01-01 06:20:49    1975-07-31  a5c13edd756f36c026630d13672974bd   \n",
              "2019-01-01 06:24:47    1978-06-21  c9235f76ecb45e67372d79ecac2ffb37   \n",
              "2019-01-01 06:25:07    1965-12-15  606b05a976ee2bca7323d6afc85e63ce   \n",
              "2019-01-01 06:25:40    1953-12-25  d44f496e9daab912914ac9513b038df2   \n",
              "2019-01-01 06:32:36    1972-04-18  6ed5502e8464efee2e341959617bb656   \n",
              "\n",
              "                       merch_lat  merch_long  is_fraud  \n",
              "trans_date_trans_time                                   \n",
              "2019-01-01 00:00:44    49.159047 -118.186462         0  \n",
              "2019-01-01 00:00:51    43.150704 -112.154481         0  \n",
              "2019-01-01 00:07:27    41.657520 -122.230347         0  \n",
              "2019-01-01 00:09:03    32.863258 -106.520205         0  \n",
              "2019-01-01 00:21:32    43.753735 -111.454923         0  \n",
              "...                          ...         ...       ...  \n",
              "2019-01-01 06:20:49    38.619691 -105.498059         0  \n",
              "2019-01-01 06:24:47    49.513555 -117.819653         0  \n",
              "2019-01-01 06:25:07    43.673602 -116.406060         0  \n",
              "2019-01-01 06:25:40    44.245679 -121.333658         0  \n",
              "2019-01-01 06:32:36    39.053407  -93.972916         0  \n",
              "\n",
              "[100 rows x 14 columns]"
            ],
            "text/html": [
              "\n",
              "  <div id=\"df-751f7e46-3352-4b55-8fe4-7b97c01791ea\" class=\"colab-df-container\">\n",
              "    <div>\n",
              "<style scoped>\n",
              "    .dataframe tbody tr th:only-of-type {\n",
              "        vertical-align: middle;\n",
              "    }\n",
              "\n",
              "    .dataframe tbody tr th {\n",
              "        vertical-align: top;\n",
              "    }\n",
              "\n",
              "    .dataframe thead th {\n",
              "        text-align: right;\n",
              "    }\n",
              "</style>\n",
              "<table border=\"1\" class=\"dataframe\">\n",
              "  <thead>\n",
              "    <tr style=\"text-align: right;\">\n",
              "      <th></th>\n",
              "      <th>merchant</th>\n",
              "      <th>category</th>\n",
              "      <th>amt</th>\n",
              "      <th>city</th>\n",
              "      <th>state</th>\n",
              "      <th>lat</th>\n",
              "      <th>long</th>\n",
              "      <th>city_pop</th>\n",
              "      <th>job</th>\n",
              "      <th>dob</th>\n",
              "      <th>trans_num</th>\n",
              "      <th>merch_lat</th>\n",
              "      <th>merch_long</th>\n",
              "      <th>is_fraud</th>\n",
              "    </tr>\n",
              "    <tr>\n",
              "      <th>trans_date_trans_time</th>\n",
              "      <th></th>\n",
              "      <th></th>\n",
              "      <th></th>\n",
              "      <th></th>\n",
              "      <th></th>\n",
              "      <th></th>\n",
              "      <th></th>\n",
              "      <th></th>\n",
              "      <th></th>\n",
              "      <th></th>\n",
              "      <th></th>\n",
              "      <th></th>\n",
              "      <th></th>\n",
              "      <th></th>\n",
              "    </tr>\n",
              "  </thead>\n",
              "  <tbody>\n",
              "    <tr>\n",
              "      <th>2019-01-01 00:00:44</th>\n",
              "      <td>Heller, Gutmann and Zieme</td>\n",
              "      <td>grocery_pos</td>\n",
              "      <td>107.23</td>\n",
              "      <td>Orient</td>\n",
              "      <td>WA</td>\n",
              "      <td>48.8878</td>\n",
              "      <td>-118.2105</td>\n",
              "      <td>149</td>\n",
              "      <td>Special educational needs teacher</td>\n",
              "      <td>1978-06-21</td>\n",
              "      <td>1f76529f8574734946361c461b024d99</td>\n",
              "      <td>49.159047</td>\n",
              "      <td>-118.186462</td>\n",
              "      <td>0</td>\n",
              "    </tr>\n",
              "    <tr>\n",
              "      <th>2019-01-01 00:00:51</th>\n",
              "      <td>Lind-Buckridge</td>\n",
              "      <td>entertainment</td>\n",
              "      <td>220.11</td>\n",
              "      <td>Malad City</td>\n",
              "      <td>ID</td>\n",
              "      <td>42.1808</td>\n",
              "      <td>-112.2620</td>\n",
              "      <td>4154</td>\n",
              "      <td>Nature conservation officer</td>\n",
              "      <td>1962-01-19</td>\n",
              "      <td>a1a22d70485983eac12b5b88dad1cf95</td>\n",
              "      <td>43.150704</td>\n",
              "      <td>-112.154481</td>\n",
              "      <td>0</td>\n",
              "    </tr>\n",
              "    <tr>\n",
              "      <th>2019-01-01 00:07:27</th>\n",
              "      <td>Kiehn Inc</td>\n",
              "      <td>grocery_pos</td>\n",
              "      <td>96.29</td>\n",
              "      <td>Grenada</td>\n",
              "      <td>CA</td>\n",
              "      <td>41.6125</td>\n",
              "      <td>-122.5258</td>\n",
              "      <td>589</td>\n",
              "      <td>Systems analyst</td>\n",
              "      <td>1945-12-21</td>\n",
              "      <td>413636e759663f264aae1819a4d4f231</td>\n",
              "      <td>41.657520</td>\n",
              "      <td>-122.230347</td>\n",
              "      <td>0</td>\n",
              "    </tr>\n",
              "    <tr>\n",
              "      <th>2019-01-01 00:09:03</th>\n",
              "      <td>Beier-Hyatt</td>\n",
              "      <td>shopping_pos</td>\n",
              "      <td>7.77</td>\n",
              "      <td>High Rolls Mountain Park</td>\n",
              "      <td>NM</td>\n",
              "      <td>32.9396</td>\n",
              "      <td>-105.8189</td>\n",
              "      <td>899</td>\n",
              "      <td>Naval architect</td>\n",
              "      <td>1967-08-30</td>\n",
              "      <td>8a6293af5ed278dea14448ded2685fea</td>\n",
              "      <td>32.863258</td>\n",
              "      <td>-106.520205</td>\n",
              "      <td>0</td>\n",
              "    </tr>\n",
              "    <tr>\n",
              "      <th>2019-01-01 00:21:32</th>\n",
              "      <td>Bruen-Yost</td>\n",
              "      <td>misc_pos</td>\n",
              "      <td>6.85</td>\n",
              "      <td>Freedom</td>\n",
              "      <td>WY</td>\n",
              "      <td>43.0172</td>\n",
              "      <td>-111.0292</td>\n",
              "      <td>471</td>\n",
              "      <td>Education officer, museum</td>\n",
              "      <td>1967-08-02</td>\n",
              "      <td>f3c43d336e92a44fc2fb67058d5949e3</td>\n",
              "      <td>43.753735</td>\n",
              "      <td>-111.454923</td>\n",
              "      <td>0</td>\n",
              "    </tr>\n",
              "    <tr>\n",
              "      <th>...</th>\n",
              "      <td>...</td>\n",
              "      <td>...</td>\n",
              "      <td>...</td>\n",
              "      <td>...</td>\n",
              "      <td>...</td>\n",
              "      <td>...</td>\n",
              "      <td>...</td>\n",
              "      <td>...</td>\n",
              "      <td>...</td>\n",
              "      <td>...</td>\n",
              "      <td>...</td>\n",
              "      <td>...</td>\n",
              "      <td>...</td>\n",
              "      <td>...</td>\n",
              "    </tr>\n",
              "    <tr>\n",
              "      <th>2019-01-01 06:20:49</th>\n",
              "      <td>Hudson-Ratke</td>\n",
              "      <td>grocery_pos</td>\n",
              "      <td>199.55</td>\n",
              "      <td>Littleton</td>\n",
              "      <td>CO</td>\n",
              "      <td>39.5994</td>\n",
              "      <td>-105.0044</td>\n",
              "      <td>320420</td>\n",
              "      <td>Water engineer</td>\n",
              "      <td>1975-07-31</td>\n",
              "      <td>a5c13edd756f36c026630d13672974bd</td>\n",
              "      <td>38.619691</td>\n",
              "      <td>-105.498059</td>\n",
              "      <td>0</td>\n",
              "    </tr>\n",
              "    <tr>\n",
              "      <th>2019-01-01 06:24:47</th>\n",
              "      <td>Harber Inc</td>\n",
              "      <td>gas_transport</td>\n",
              "      <td>94.48</td>\n",
              "      <td>Orient</td>\n",
              "      <td>WA</td>\n",
              "      <td>48.8878</td>\n",
              "      <td>-118.2105</td>\n",
              "      <td>149</td>\n",
              "      <td>Special educational needs teacher</td>\n",
              "      <td>1978-06-21</td>\n",
              "      <td>c9235f76ecb45e67372d79ecac2ffb37</td>\n",
              "      <td>49.513555</td>\n",
              "      <td>-117.819653</td>\n",
              "      <td>0</td>\n",
              "    </tr>\n",
              "    <tr>\n",
              "      <th>2019-01-01 06:25:07</th>\n",
              "      <td>Berge LLC</td>\n",
              "      <td>gas_transport</td>\n",
              "      <td>79.39</td>\n",
              "      <td>Mesa</td>\n",
              "      <td>ID</td>\n",
              "      <td>44.6255</td>\n",
              "      <td>-116.4493</td>\n",
              "      <td>129</td>\n",
              "      <td>Cartographer</td>\n",
              "      <td>1965-12-15</td>\n",
              "      <td>606b05a976ee2bca7323d6afc85e63ce</td>\n",
              "      <td>43.673602</td>\n",
              "      <td>-116.406060</td>\n",
              "      <td>0</td>\n",
              "    </tr>\n",
              "    <tr>\n",
              "      <th>2019-01-01 06:25:40</th>\n",
              "      <td>Pagac LLC</td>\n",
              "      <td>shopping_pos</td>\n",
              "      <td>5.05</td>\n",
              "      <td>Powell Butte</td>\n",
              "      <td>OR</td>\n",
              "      <td>44.2415</td>\n",
              "      <td>-121.0113</td>\n",
              "      <td>2016</td>\n",
              "      <td>Local government officer</td>\n",
              "      <td>1953-12-25</td>\n",
              "      <td>d44f496e9daab912914ac9513b038df2</td>\n",
              "      <td>44.245679</td>\n",
              "      <td>-121.333658</td>\n",
              "      <td>0</td>\n",
              "    </tr>\n",
              "    <tr>\n",
              "      <th>2019-01-01 06:32:36</th>\n",
              "      <td>Erdman-Kertzmann</td>\n",
              "      <td>gas_transport</td>\n",
              "      <td>69.72</td>\n",
              "      <td>Utica</td>\n",
              "      <td>MO</td>\n",
              "      <td>39.7417</td>\n",
              "      <td>-93.6289</td>\n",
              "      <td>271</td>\n",
              "      <td>Land/geomatics surveyor</td>\n",
              "      <td>1972-04-18</td>\n",
              "      <td>6ed5502e8464efee2e341959617bb656</td>\n",
              "      <td>39.053407</td>\n",
              "      <td>-93.972916</td>\n",
              "      <td>0</td>\n",
              "    </tr>\n",
              "  </tbody>\n",
              "</table>\n",
              "<p>100 rows × 14 columns</p>\n",
              "</div>\n",
              "    <div class=\"colab-df-buttons\">\n",
              "\n",
              "  <div class=\"colab-df-container\">\n",
              "    <button class=\"colab-df-convert\" onclick=\"convertToInteractive('df-751f7e46-3352-4b55-8fe4-7b97c01791ea')\"\n",
              "            title=\"Convert this dataframe to an interactive table.\"\n",
              "            style=\"display:none;\">\n",
              "\n",
              "  <svg xmlns=\"http://www.w3.org/2000/svg\" height=\"24px\" viewBox=\"0 -960 960 960\">\n",
              "    <path d=\"M120-120v-720h720v720H120Zm60-500h600v-160H180v160Zm220 220h160v-160H400v160Zm0 220h160v-160H400v160ZM180-400h160v-160H180v160Zm440 0h160v-160H620v160ZM180-180h160v-160H180v160Zm440 0h160v-160H620v160Z\"/>\n",
              "  </svg>\n",
              "    </button>\n",
              "\n",
              "  <style>\n",
              "    .colab-df-container {\n",
              "      display:flex;\n",
              "      gap: 12px;\n",
              "    }\n",
              "\n",
              "    .colab-df-convert {\n",
              "      background-color: #E8F0FE;\n",
              "      border: none;\n",
              "      border-radius: 50%;\n",
              "      cursor: pointer;\n",
              "      display: none;\n",
              "      fill: #1967D2;\n",
              "      height: 32px;\n",
              "      padding: 0 0 0 0;\n",
              "      width: 32px;\n",
              "    }\n",
              "\n",
              "    .colab-df-convert:hover {\n",
              "      background-color: #E2EBFA;\n",
              "      box-shadow: 0px 1px 2px rgba(60, 64, 67, 0.3), 0px 1px 3px 1px rgba(60, 64, 67, 0.15);\n",
              "      fill: #174EA6;\n",
              "    }\n",
              "\n",
              "    .colab-df-buttons div {\n",
              "      margin-bottom: 4px;\n",
              "    }\n",
              "\n",
              "    [theme=dark] .colab-df-convert {\n",
              "      background-color: #3B4455;\n",
              "      fill: #D2E3FC;\n",
              "    }\n",
              "\n",
              "    [theme=dark] .colab-df-convert:hover {\n",
              "      background-color: #434B5C;\n",
              "      box-shadow: 0px 1px 3px 1px rgba(0, 0, 0, 0.15);\n",
              "      filter: drop-shadow(0px 1px 2px rgba(0, 0, 0, 0.3));\n",
              "      fill: #FFFFFF;\n",
              "    }\n",
              "  </style>\n",
              "\n",
              "    <script>\n",
              "      const buttonEl =\n",
              "        document.querySelector('#df-751f7e46-3352-4b55-8fe4-7b97c01791ea button.colab-df-convert');\n",
              "      buttonEl.style.display =\n",
              "        google.colab.kernel.accessAllowed ? 'block' : 'none';\n",
              "\n",
              "      async function convertToInteractive(key) {\n",
              "        const element = document.querySelector('#df-751f7e46-3352-4b55-8fe4-7b97c01791ea');\n",
              "        const dataTable =\n",
              "          await google.colab.kernel.invokeFunction('convertToInteractive',\n",
              "                                                    [key], {});\n",
              "        if (!dataTable) return;\n",
              "\n",
              "        const docLinkHtml = 'Like what you see? Visit the ' +\n",
              "          '<a target=\"_blank\" href=https://colab.research.google.com/notebooks/data_table.ipynb>data table notebook</a>'\n",
              "          + ' to learn more about interactive tables.';\n",
              "        element.innerHTML = '';\n",
              "        dataTable['output_type'] = 'display_data';\n",
              "        await google.colab.output.renderOutput(dataTable, element);\n",
              "        const docLink = document.createElement('div');\n",
              "        docLink.innerHTML = docLinkHtml;\n",
              "        element.appendChild(docLink);\n",
              "      }\n",
              "    </script>\n",
              "  </div>\n",
              "\n",
              "\n",
              "    <div id=\"df-0c0eec4c-da4d-4c93-8de3-ac4c28774be6\">\n",
              "      <button class=\"colab-df-quickchart\" onclick=\"quickchart('df-0c0eec4c-da4d-4c93-8de3-ac4c28774be6')\"\n",
              "                title=\"Suggest charts\"\n",
              "                style=\"display:none;\">\n",
              "\n",
              "<svg xmlns=\"http://www.w3.org/2000/svg\" height=\"24px\"viewBox=\"0 0 24 24\"\n",
              "     width=\"24px\">\n",
              "    <g>\n",
              "        <path d=\"M19 3H5c-1.1 0-2 .9-2 2v14c0 1.1.9 2 2 2h14c1.1 0 2-.9 2-2V5c0-1.1-.9-2-2-2zM9 17H7v-7h2v7zm4 0h-2V7h2v10zm4 0h-2v-4h2v4z\"/>\n",
              "    </g>\n",
              "</svg>\n",
              "      </button>\n",
              "\n",
              "<style>\n",
              "  .colab-df-quickchart {\n",
              "      --bg-color: #E8F0FE;\n",
              "      --fill-color: #1967D2;\n",
              "      --hover-bg-color: #E2EBFA;\n",
              "      --hover-fill-color: #174EA6;\n",
              "      --disabled-fill-color: #AAA;\n",
              "      --disabled-bg-color: #DDD;\n",
              "  }\n",
              "\n",
              "  [theme=dark] .colab-df-quickchart {\n",
              "      --bg-color: #3B4455;\n",
              "      --fill-color: #D2E3FC;\n",
              "      --hover-bg-color: #434B5C;\n",
              "      --hover-fill-color: #FFFFFF;\n",
              "      --disabled-bg-color: #3B4455;\n",
              "      --disabled-fill-color: #666;\n",
              "  }\n",
              "\n",
              "  .colab-df-quickchart {\n",
              "    background-color: var(--bg-color);\n",
              "    border: none;\n",
              "    border-radius: 50%;\n",
              "    cursor: pointer;\n",
              "    display: none;\n",
              "    fill: var(--fill-color);\n",
              "    height: 32px;\n",
              "    padding: 0;\n",
              "    width: 32px;\n",
              "  }\n",
              "\n",
              "  .colab-df-quickchart:hover {\n",
              "    background-color: var(--hover-bg-color);\n",
              "    box-shadow: 0 1px 2px rgba(60, 64, 67, 0.3), 0 1px 3px 1px rgba(60, 64, 67, 0.15);\n",
              "    fill: var(--button-hover-fill-color);\n",
              "  }\n",
              "\n",
              "  .colab-df-quickchart-complete:disabled,\n",
              "  .colab-df-quickchart-complete:disabled:hover {\n",
              "    background-color: var(--disabled-bg-color);\n",
              "    fill: var(--disabled-fill-color);\n",
              "    box-shadow: none;\n",
              "  }\n",
              "\n",
              "  .colab-df-spinner {\n",
              "    border: 2px solid var(--fill-color);\n",
              "    border-color: transparent;\n",
              "    border-bottom-color: var(--fill-color);\n",
              "    animation:\n",
              "      spin 1s steps(1) infinite;\n",
              "  }\n",
              "\n",
              "  @keyframes spin {\n",
              "    0% {\n",
              "      border-color: transparent;\n",
              "      border-bottom-color: var(--fill-color);\n",
              "      border-left-color: var(--fill-color);\n",
              "    }\n",
              "    20% {\n",
              "      border-color: transparent;\n",
              "      border-left-color: var(--fill-color);\n",
              "      border-top-color: var(--fill-color);\n",
              "    }\n",
              "    30% {\n",
              "      border-color: transparent;\n",
              "      border-left-color: var(--fill-color);\n",
              "      border-top-color: var(--fill-color);\n",
              "      border-right-color: var(--fill-color);\n",
              "    }\n",
              "    40% {\n",
              "      border-color: transparent;\n",
              "      border-right-color: var(--fill-color);\n",
              "      border-top-color: var(--fill-color);\n",
              "    }\n",
              "    60% {\n",
              "      border-color: transparent;\n",
              "      border-right-color: var(--fill-color);\n",
              "    }\n",
              "    80% {\n",
              "      border-color: transparent;\n",
              "      border-right-color: var(--fill-color);\n",
              "      border-bottom-color: var(--fill-color);\n",
              "    }\n",
              "    90% {\n",
              "      border-color: transparent;\n",
              "      border-bottom-color: var(--fill-color);\n",
              "    }\n",
              "  }\n",
              "</style>\n",
              "\n",
              "      <script>\n",
              "        async function quickchart(key) {\n",
              "          const quickchartButtonEl =\n",
              "            document.querySelector('#' + key + ' button');\n",
              "          quickchartButtonEl.disabled = true;  // To prevent multiple clicks.\n",
              "          quickchartButtonEl.classList.add('colab-df-spinner');\n",
              "          try {\n",
              "            const charts = await google.colab.kernel.invokeFunction(\n",
              "                'suggestCharts', [key], {});\n",
              "          } catch (error) {\n",
              "            console.error('Error during call to suggestCharts:', error);\n",
              "          }\n",
              "          quickchartButtonEl.classList.remove('colab-df-spinner');\n",
              "          quickchartButtonEl.classList.add('colab-df-quickchart-complete');\n",
              "        }\n",
              "        (() => {\n",
              "          let quickchartButtonEl =\n",
              "            document.querySelector('#df-0c0eec4c-da4d-4c93-8de3-ac4c28774be6 button');\n",
              "          quickchartButtonEl.style.display =\n",
              "            google.colab.kernel.accessAllowed ? 'block' : 'none';\n",
              "        })();\n",
              "      </script>\n",
              "    </div>\n",
              "\n",
              "    </div>\n",
              "  </div>\n"
            ],
            "application/vnd.google.colaboratory.intrinsic+json": {
              "type": "dataframe",
              "variable_name": "df"
            }
          },
          "metadata": {},
          "execution_count": 6
        }
      ],
      "execution_count": 6
    },
    {
      "source": [
        "# check the data\n",
        "#print(df.info())\n",
        "# check the total number of fraud cases in each category\n",
        "def fraud_category(df):\n",
        "  df['fraud_category'] = df.groupby(\"category\")['is_fraud'].transform('mean')\n",
        "  df['fraud_merchant'] = df.groupby(\"merchant\")['is_fraud'].transform('mean')\n",
        "  df_fraud = df[df['is_fraud']==1]\n",
        "  amount_fraud = df_fraud.groupby(\"category\")[\"amt\"].transform('mean')\n",
        "\n",
        "  return df\n"
      ],
      "metadata": {
        "executionCancelledAt": null,
        "executionTime": 136,
        "lastExecutedAt": 1759703315642,
        "lastExecutedByKernel": "6568b305-0a99-496c-84b0-22f4c8a17995",
        "lastScheduledRunId": null,
        "lastSuccessfullyExecutedCode": "# check the data\n#print(df.info())\n# check the total number of fraud cases in each category\ndf['fraud_category'] = df.groupby(\"category\")['is_fraud'].transform('mean')\n#print(fraud_category)\n\n# check the average fraud cases by merchant\ndf['fraud_merchant'] = df.groupby(\"merchant\")['is_fraud'].transform('mean')\n#print(fraud_merchant)\n\n\n# check the amount lost to fraud in each category \ndf_fraud = df[df['is_fraud']==1]\namount_fraud = df_fraud.groupby(\"category\")[\"amt\"].transform('mean')\n#print(amount_fraud.idxmax())\n\n# check the city where most fraud cases occur\nfraud_city = df.groupby(\"state\")[\"is_fraud\"].sum()\nprint(fraud_city.idxmax())",
        "outputsMetadata": {
          "0": {
            "height": 38,
            "type": "stream"
          }
        },
        "id": "87c4ac80-0f9b-4a83-ad71-8000a1afbfe3"
      },
      "cell_type": "code",
      "id": "87c4ac80-0f9b-4a83-ad71-8000a1afbfe3",
      "outputs": [],
      "execution_count": 9
    },
    {
      "source": [
        "df = fraud_category(df)\n",
        "print(df.info())"
      ],
      "metadata": {
        "executionCancelledAt": null,
        "executionTime": 50,
        "lastExecutedAt": 1759703315692,
        "lastExecutedByKernel": "6568b305-0a99-496c-84b0-22f4c8a17995",
        "lastScheduledRunId": null,
        "lastSuccessfullyExecutedCode": "print(df['fraud_merchant'].head())",
        "outputsMetadata": {
          "0": {
            "height": 164,
            "type": "stream"
          }
        },
        "colab": {
          "base_uri": "https://localhost:8080/"
        },
        "id": "46d0d4f1-595b-4ddd-9b34-0845e0fb4bc6",
        "outputId": "ee4a92ee-2c07-45cf-ca08-77479cd65fe3"
      },
      "cell_type": "code",
      "id": "46d0d4f1-595b-4ddd-9b34-0845e0fb4bc6",
      "outputs": [
        {
          "output_type": "stream",
          "name": "stdout",
          "text": [
            "<class 'pandas.core.frame.DataFrame'>\n",
            "Index: 339607 entries, 2019-01-01 00:00:44 to 2020-12-31 23:59:24\n",
            "Data columns (total 16 columns):\n",
            " #   Column          Non-Null Count   Dtype  \n",
            "---  ------          --------------   -----  \n",
            " 0   merchant        339607 non-null  object \n",
            " 1   category        339607 non-null  object \n",
            " 2   amt             339607 non-null  float64\n",
            " 3   city            339607 non-null  object \n",
            " 4   state           339607 non-null  object \n",
            " 5   lat             339607 non-null  float64\n",
            " 6   long            339607 non-null  float64\n",
            " 7   city_pop        339607 non-null  int64  \n",
            " 8   job             339607 non-null  object \n",
            " 9   dob             339607 non-null  object \n",
            " 10  trans_num       339607 non-null  object \n",
            " 11  merch_lat       339607 non-null  float64\n",
            " 12  merch_long      339607 non-null  float64\n",
            " 13  is_fraud        339607 non-null  int64  \n",
            " 14  fraud_category  339607 non-null  float64\n",
            " 15  fraud_merchant  339607 non-null  float64\n",
            "dtypes: float64(7), int64(2), object(7)\n",
            "memory usage: 52.1+ MB\n",
            "None\n"
          ]
        }
      ],
      "execution_count": 12
    },
    {
      "source": [
        "# check for outliers in the trasactions using histogram\n",
        "sns.histplot(x=df['amt'])\n",
        "plt.show()\n",
        "\n"
      ],
      "metadata": {
        "executionCancelledAt": null,
        "executionTime": 13356,
        "lastExecutedAt": 1759703329048,
        "lastExecutedByKernel": "6568b305-0a99-496c-84b0-22f4c8a17995",
        "lastScheduledRunId": null,
        "lastSuccessfullyExecutedCode": "# check for outliers in the trasactions using histogram\nsns.histplot(x=df['amt'])\nplt.show()\n\n",
        "colab": {
          "base_uri": "https://localhost:8080/",
          "height": 449
        },
        "id": "733c9e48-0403-4c81-a79c-4a0b84e25a1b",
        "outputId": "14bf8873-3a54-49f4-88bf-b72272fab75b"
      },
      "cell_type": "code",
      "id": "733c9e48-0403-4c81-a79c-4a0b84e25a1b",
      "outputs": [
        {
          "output_type": "display_data",
          "data": {
            "text/plain": [
              "<Figure size 640x480 with 1 Axes>"
            ],
            "image/png": "[encoded data removed]"
          },
          "metadata": {}
        }
      ],
      "execution_count": 13
    },
    {
      "source": [
        "# check the descriptive stat to be sure\n",
        "print(df['amt'].describe())\n"
      ],
      "metadata": {
        "executionCancelledAt": null,
        "executionTime": 47,
        "lastExecutedAt": 1759703329095,
        "lastExecutedByKernel": "6568b305-0a99-496c-84b0-22f4c8a17995",
        "lastScheduledRunId": null,
        "lastSuccessfullyExecutedCode": "# check the descriptive stat to be sure\nprint(df['amt'].describe())\n",
        "outputsMetadata": {
          "0": {
            "height": 206,
            "type": "stream"
          }
        },
        "colab": {
          "base_uri": "https://localhost:8080/"
        },
        "id": "a672e543-8cc2-4487-9ba7-93e130b4cf08",
        "outputId": "565e3700-c3c0-4af3-f9c5-810797622327"
      },
      "cell_type": "code",
      "id": "a672e543-8cc2-4487-9ba7-93e130b4cf08",
      "outputs": [
        {
          "output_type": "stream",
          "name": "stdout",
          "text": [
            "count    339607.000000\n",
            "mean         70.577984\n",
            "std         161.675242\n",
            "min           1.000000\n",
            "25%           9.600000\n",
            "50%          46.460000\n",
            "75%          83.350000\n",
            "max       28948.900000\n",
            "Name: amt, dtype: float64\n"
          ]
        }
      ],
      "execution_count": 14
    },
    {
      "source": [
        "# transform the amount\n",
        "def transform_amount(df):\n",
        "  df['log_amt'] = np.log1p(df['amt'])\n",
        "  df['z-score'] = (df['log_amt'] - df['log_amt'].mean()) / df['log_amt'].std()\n",
        "  return df\n",
        "\n",
        "df = transform_amount(df)\n",
        "# plotting another histogram to check if the skewness has reduced\n",
        "plt.hist(df['z-score'],bins = 50)\n",
        "plt.title(\"Z-score distribution after log transformation\")\n",
        "plt.xlabel(\"Z-score of log(amount)\")\n",
        "plt.ylabel(\"Transaction_count\")\n",
        "plt.axvline(3, color = 'red', linestyle = \"--\", label = 'Z = +3')\n",
        "plt.axvline(-3, color = 'red', linestyle = \"--\", label = 'Z = -3')\n",
        "plt.legend()\n",
        "\n",
        "plt.show()"
      ],
      "metadata": {
        "executionCancelledAt": null,
        "executionTime": 293,
        "lastExecutedAt": 1759703329388,
        "lastExecutedByKernel": "6568b305-0a99-496c-84b0-22f4c8a17995",
        "lastScheduledRunId": null,
        "lastSuccessfullyExecutedCode": "# transform the amount\ndf['log_amt'] = np.log1p(df['amt'])\n\ndf['z-score'] = (df['log_amt'] - df['log_amt'].mean()) / df['log_amt'].std()\n\n\n# plotting another histogram to check if the skewness has reduced\nplt.hist(df['z-score'],bins = 50)\nplt.title(\"Z-score distribution after log transformation\")\nplt.xlabel(\"Z-score of log(amount)\")\nplt.ylabel(\"Transaction_count\")\nplt.axvline(3, color = 'red', linestyle = \"--\", label = 'Z = +3')\nplt.axvline(-3, color = 'red', linestyle = \"--\", label = 'Z = -3')\nplt.legend()\n\nplt.show()",
        "colab": {
          "base_uri": "https://localhost:8080/",
          "height": 472
        },
        "id": "72ddf84d-937f-4ba0-ab9f-5706dabf996e",
        "outputId": "c22f754c-de4d-4299-97ba-40aadbac5cf4"
      },
      "cell_type": "code",
      "id": "72ddf84d-937f-4ba0-ab9f-5706dabf996e",
      "outputs": [
        {
          "output_type": "display_data",
          "data": {
            "text/plain": [
              "<Figure size 640x480 with 1 Axes>"
            ],
            "image/png": "[encoded data removed]"
          },
          "metadata": {}
        }
      ],
      "execution_count": 16
    },
    {
      "source": [
        "# cast and bind the outliers\n",
        "def bind_outliers(df):\n",
        "  df['is_high_amt'] = (df['z-score'] > 3).astype(int)\n",
        "  df['is_low_amt'] = (df['z-score'] < -3).astype(int)\n",
        "  return df\n",
        "\n",
        "df = bind_outliers(df)\n",
        "print(df.info())"
      ],
      "metadata": {
        "executionCancelledAt": null,
        "executionTime": 92,
        "lastExecutedAt": 1759703329480,
        "lastExecutedByKernel": "6568b305-0a99-496c-84b0-22f4c8a17995",
        "lastScheduledRunId": null,
        "lastSuccessfullyExecutedCode": "# cast and bind the outliers\ndf['is_high_amt'] = (df['z-score'] > 3).astype(int)\ndf['is_low_amt'] = (df['z-score'] < -3).astype(int)\nprint(df.info())",
        "outputsMetadata": {
          "0": {
            "height": 525,
            "type": "stream"
          }
        },
        "colab": {
          "base_uri": "https://localhost:8080/"
        },
        "id": "8cf6cbed-2040-47db-867c-49a425fb448d",
        "outputId": "c3305be7-30cf-4da3-b9b2-b20c54406dc6"
      },
      "cell_type": "code",
      "id": "8cf6cbed-2040-47db-867c-49a425fb448d",
      "outputs": [
        {
          "output_type": "stream",
          "name": "stdout",
          "text": [
            "<class 'pandas.core.frame.DataFrame'>\n",
            "Index: 339607 entries, 2019-01-01 00:00:44 to 2020-12-31 23:59:24\n",
            "Data columns (total 20 columns):\n",
            " #   Column          Non-Null Count   Dtype  \n",
            "---  ------          --------------   -----  \n",
            " 0   merchant        339607 non-null  object \n",
            " 1   category        339607 non-null  object \n",
            " 2   amt             339607 non-null  float64\n",
            " 3   city            339607 non-null  object \n",
            " 4   state           339607 non-null  object \n",
            " 5   lat             339607 non-null  float64\n",
            " 6   long            339607 non-null  float64\n",
            " 7   city_pop        339607 non-null  int64  \n",
            " 8   job             339607 non-null  object \n",
            " 9   dob             339607 non-null  object \n",
            " 10  trans_num       339607 non-null  object \n",
            " 11  merch_lat       339607 non-null  float64\n",
            " 12  merch_long      339607 non-null  float64\n",
            " 13  is_fraud        339607 non-null  int64  \n",
            " 14  fraud_category  339607 non-null  float64\n",
            " 15  fraud_merchant  339607 non-null  float64\n",
            " 16  log_amt         339607 non-null  float64\n",
            " 17  z-score         339607 non-null  float64\n",
            " 18  is_high_amt     339607 non-null  int64  \n",
            " 19  is_low_amt      339607 non-null  int64  \n",
            "dtypes: float64(9), int64(4), object(7)\n",
            "memory usage: 62.5+ MB\n",
            "None\n"
          ]
        }
      ],
      "execution_count": 17
    },
    {
      "source": [
        "Feature engineering\n",
        "To get meaninful features,i'll:\n",
        "Extract the age of the clients from their date of birth\n",
        "Extract the"
      ],
      "metadata": {
        "id": "37c96a6b-260e-447d-9145-9d5221121455"
      },
      "cell_type": "markdown",
      "id": "37c96a6b-260e-447d-9145-9d5221121455"
    },
    {
      "source": [
        "# Extract the age\n",
        "from datetime import date\n",
        "# Extract the age of the clients from their date of birth\n",
        "def age(df):\n",
        "    df['dob'] = pd.to_datetime(df[\"dob\"])\n",
        "    today = date.today()\n",
        "    df['age'] = df['dob'].apply(lambda x: today.year - x.year - ((today.month, today.day) < (x.month, x.day)))\n",
        "    return df\n",
        "\n",
        "df = age(df)\n",
        "print(df['age'].head())"
      ],
      "metadata": {
        "executionCancelledAt": null,
        "executionTime": 1787,
        "lastExecutedAt": 1759703331267,
        "lastExecutedByKernel": "6568b305-0a99-496c-84b0-22f4c8a17995",
        "lastScheduledRunId": null,
        "lastSuccessfullyExecutedCode": "# Extract the age\nfrom datetime import date\ndf['dob'] = pd.to_datetime(df[\"dob\"])\n# Extract the age of the clients from their date of birth\ndef age(dob:date)->int:\n    today = date.today()\n    age = today.year - dob.year - ((today.month, today.day) < (dob.month, dob.day))\n    return age\n\ndf[\"age\"] = df['dob'].apply(age)\nprint(df['age'].head())",
        "outputsMetadata": {
          "0": {
            "height": 164,
            "type": "stream"
          }
        },
        "colab": {
          "base_uri": "https://localhost:8080/"
        },
        "id": "8b664a57-b4b8-4fe2-a26a-7058fc02f00e",
        "outputId": "e7965141-6e17-4dfa-e467-a2162d5dac9c"
      },
      "cell_type": "code",
      "id": "8b664a57-b4b8-4fe2-a26a-7058fc02f00e",
      "outputs": [
        {
          "output_type": "stream",
          "name": "stdout",
          "text": [
            "trans_date_trans_time\n",
            "2019-01-01 00:00:44    47\n",
            "2019-01-01 00:00:51    63\n",
            "2019-01-01 00:07:27    79\n",
            "2019-01-01 00:09:03    58\n",
            "2019-01-01 00:21:32    58\n",
            "Name: age, dtype: int64\n"
          ]
        }
      ],
      "execution_count": 19
    },
    {
      "source": [
        "# Extract the hour,day and month of each transaction\n",
        "def time_features(df):\n",
        "  df.index = pd.to_datetime(df.index)\n",
        "  df['day'] = df.index.day\n",
        "  df['hour'] = df.index.hour\n",
        "  df['month'] = df.index.month\n",
        "  df['weekday'] = df.index.weekday"
      ],
      "metadata": {
        "executionCancelledAt": null,
        "executionTime": 90,
        "lastExecutedAt": 1759703331357,
        "lastExecutedByKernel": "6568b305-0a99-496c-84b0-22f4c8a17995",
        "lastScheduledRunId": null,
        "lastSuccessfullyExecutedCode": "# Extract the hour,day and month of each transaction\ndf.index = pd.to_datetime(df.index)\ndf['day'] = df.index.day\ndf['hour'] = df.index.hour\ndf['month'] = df.index.month\ndf['weekday'] = df.index.weekday",
        "id": "742b3cbe-1c54-42e5-9b22-c6ec22a279c2"
      },
      "cell_type": "code",
      "id": "742b3cbe-1c54-42e5-9b22-c6ec22a279c2",
      "outputs": [],
      "execution_count": 45
    },
    {
      "source": [
        "# Extract the distance between the merchant and the client using their latitude and longitude in km\n",
        "def distance(row):\n",
        "    merch_coords = (row['merch_lat'], row['merch_long'])\n",
        "    client_coords = (row['lat'], row['long'])\n",
        "    return geodesic(merch_coords, client_coords).km\n",
        "\n",
        "df['distance'] = df.apply(distance, axis=1)\n",
        "print(df['distance'].head())"
      ],
      "metadata": {
        "executionCancelledAt": null,
        "executionTime": 69976,
        "lastExecutedAt": 1759703401335,
        "lastExecutedByKernel": "6568b305-0a99-496c-84b0-22f4c8a17995",
        "lastScheduledRunId": null,
        "lastSuccessfullyExecutedCode": "# Extract the distance between the merchant and the client using their latitude and longitude in km\ndef distance(row):\n    merch_coords = (row['merch_lat'], row['merch_long'])\n    client_coords = (row['lat'], row['long'])\n    return geodesic(merch_coords, client_coords).km\n\ndf['distance'] = df.apply(distance, axis=1)",
        "colab": {
          "base_uri": "https://localhost:8080/"
        },
        "id": "f54d7a53-1c84-4181-98f7-f830d9516c87",
        "outputId": "69058e6c-1155-40ff-c1ed-904beb97019e"
      },
      "cell_type": "code",
      "id": "f54d7a53-1c84-4181-98f7-f830d9516c87",
      "outputs": [
        {
          "output_type": "stream",
          "name": "stdout",
          "text": [
            "trans_date_trans_time\n",
            "2019-01-01 00:00:44     30.216618\n",
            "2019-01-01 00:00:51    108.102912\n",
            "2019-01-01 00:07:27     25.120545\n",
            "2019-01-01 00:09:03     66.155859\n",
            "2019-01-01 00:21:32     88.802805\n",
            "Name: distance, dtype: float64\n"
          ]
        }
      ],
      "execution_count": 22
    },
    {
      "source": [
        "# convert the boolean values into integer\n",
        "def convert_bool(df):\n",
        "  for col in df.columns:\n",
        "    if df[col].dtype == 'bool':\n",
        "      df[col] = df[col].astype(int)\n",
        "  return df\n",
        "\n",
        "df = convert_bool(df)\n",
        "\n",
        "print(df.info())"
      ],
      "metadata": {
        "executionCancelledAt": null,
        "executionTime": 86,
        "lastExecutedAt": 1759703489340,
        "lastExecutedByKernel": "6568b305-0a99-496c-84b0-22f4c8a17995",
        "lastScheduledRunId": null,
        "lastSuccessfullyExecutedCode": "# convert the boolean values into integer\nfor col in df.columns:\n    if df[col].dtype == 'bool':\n        df[col] = df[col].astype(int)\n\n\nprint(df.info())",
        "outputsMetadata": {
          "0": {
            "height": 525,
            "type": "stream"
          }
        },
        "colab": {
          "base_uri": "https://localhost:8080/"
        },
        "id": "af2120d5-31e9-48aa-99fb-bc6869a04326",
        "outputId": "92cd901b-f78f-444a-b76d-8c4c68f61eb1"
      },
      "cell_type": "code",
      "id": "af2120d5-31e9-48aa-99fb-bc6869a04326",
      "outputs": [
        {
          "output_type": "stream",
          "name": "stdout",
          "text": [
            "<class 'pandas.core.frame.DataFrame'>\n",
            "DatetimeIndex: 339607 entries, 2019-01-01 00:00:44 to 2020-12-31 23:59:24\n",
            "Data columns (total 27 columns):\n",
            " #   Column          Non-Null Count   Dtype         \n",
            "---  ------          --------------   -----         \n",
            " 0   merchant        339607 non-null  object        \n",
            " 1   category        339607 non-null  object        \n",
            " 2   amt             339607 non-null  float64       \n",
            " 3   city            339607 non-null  object        \n",
            " 4   state           339607 non-null  object        \n",
            " 5   lat             339607 non-null  float64       \n",
            " 6   long            339607 non-null  float64       \n",
            " 7   city_pop        339607 non-null  int64         \n",
            " 8   job             339607 non-null  object        \n",
            " 9   dob             339607 non-null  datetime64[ns]\n",
            " 10  trans_num       339607 non-null  object        \n",
            " 11  merch_lat       339607 non-null  float64       \n",
            " 12  merch_long      339607 non-null  float64       \n",
            " 13  is_fraud        339607 non-null  int64         \n",
            " 14  fraud_category  339607 non-null  float64       \n",
            " 15  fraud_merchant  339607 non-null  float64       \n",
            " 16  log_amt         339607 non-null  float64       \n",
            " 17  z-score         339607 non-null  float64       \n",
            " 18  is_high_amt     339607 non-null  int64         \n",
            " 19  is_low_amt      339607 non-null  int64         \n",
            " 20  age             339607 non-null  int64         \n",
            " 21  day             339607 non-null  int32         \n",
            " 22  hour            339607 non-null  int32         \n",
            " 23  month           339607 non-null  int32         \n",
            " 24  weekday         339607 non-null  int32         \n",
            " 25  distance        339607 non-null  float64       \n",
            " 26  is_whole        339607 non-null  int64         \n",
            "dtypes: datetime64[ns](1), float64(10), int32(4), int64(6), object(6)\n",
            "memory usage: 67.4+ MB\n",
            "None\n"
          ]
        }
      ],
      "execution_count": 24
    },
    {
      "cell_type": "code",
      "source": [
        "# define the feature engineering class\n",
        "from sklearn.base import BaseEstimator, TransformerMixin\n",
        "\n",
        "class FeatureEngineering(BaseEstimator, TransformerMixin):\n",
        "    def __init__(self, columns):\n",
        "        self.columns = columns\n",
        "\n",
        "    def fit(self, X, y=None):\n",
        "        return self\n",
        "\n",
        "    def transform(self, X):\n",
        "        X = X.fraud_category()\n",
        "        X = X.fraud_merchant()\n",
        "        X = X.transform_amount()\n",
        "        X = X.bind_outliers()\n",
        "        X = X.age()\n",
        "        X = X.time_features()\n",
        "        X = X.distance()\n",
        "        X = X.is_whole()\n",
        "        X = X.convert_bool()\n",
        "        return X"
      ],
      "metadata": {
        "id": "sbfkmKyZNiFv"
      },
      "id": "sbfkmKyZNiFv",
      "execution_count": 25,
      "outputs": []
    },
    {
      "source": [
        "# define the x and y features\n",
        "# Removed 'monthly_30_amt_x' and 'monthly_30_amt_y' as they are not in the DataFrame columns\n",
        "X = df[['fraud_category', 'fraud_merchant', 'log_amt', 'z-score',\n",
        "       'is_high_amt', 'is_low_amt', 'age', 'day', 'hour', 'month', 'weekday',\n",
        "       'distance', 'is_whole']]\n",
        "y = df['is_fraud']\n",
        "\n",
        "print(X.info())"
      ],
      "metadata": {
        "executionCancelledAt": null,
        "executionTime": 53,
        "lastExecutedAt": 1759703866152,
        "lastExecutedByKernel": "6568b305-0a99-496c-84b0-22f4c8a17995",
        "lastScheduledRunId": null,
        "lastSuccessfullyExecutedCode": "# define the x and y features\n# Removed 'monthly_30_amt_x' and 'monthly_30_amt_y' as they are not in the DataFrame columns\nX = df[['fraud_category', 'fraud_merchant', 'log_amt', 'z-score',\n       'is_high_amt', 'is_low_amt', 'age', 'day', 'hour', 'month', 'weekday',\n       'distance', 'is_whole']]\ny = df['is_fraud']\n\nprint(X.info())",
        "outputsMetadata": {
          "0": {
            "height": 525,
            "type": "stream"
          }
        },
        "colab": {
          "base_uri": "https://localhost:8080/"
        },
        "id": "2f4da24e-4a74-456e-8097-8bef8dd61edc",
        "outputId": "c5561312-dd62-4f12-fe05-9a1de75b47b7"
      },
      "cell_type": "code",
      "id": "2f4da24e-4a74-456e-8097-8bef8dd61edc",
      "outputs": [
        {
          "output_type": "stream",
          "name": "stdout",
          "text": [
            "<class 'pandas.core.frame.DataFrame'>\n",
            "DatetimeIndex: 339607 entries, 2019-01-01 00:00:44 to 2020-12-31 23:59:24\n",
            "Data columns (total 13 columns):\n",
            " #   Column          Non-Null Count   Dtype  \n",
            "---  ------          --------------   -----  \n",
            " 0   fraud_category  339607 non-null  float64\n",
            " 1   fraud_merchant  339607 non-null  float64\n",
            " 2   log_amt         339607 non-null  float64\n",
            " 3   z-score         339607 non-null  float64\n",
            " 4   is_high_amt     339607 non-null  int64  \n",
            " 5   is_low_amt      339607 non-null  int64  \n",
            " 6   age             339607 non-null  int64  \n",
            " 7   day             339607 non-null  int32  \n",
            " 8   hour            339607 non-null  int32  \n",
            " 9   month           339607 non-null  int32  \n",
            " 10  weekday         339607 non-null  int32  \n",
            " 11  distance        339607 non-null  float64\n",
            " 12  is_whole        339607 non-null  int64  \n",
            "dtypes: float64(5), int32(4), int64(4)\n",
            "memory usage: 31.1 MB\n",
            "None\n"
          ]
        }
      ],
      "execution_count": 26
    },
    {
      "source": [],
      "metadata": {
        "executionCancelledAt": 1759703401449,
        "id": "cbdce0a9-58a1-4615-adf8-2391b33ce600"
      },
      "cell_type": "code",
      "id": "cbdce0a9-58a1-4615-adf8-2391b33ce600",
      "outputs": [],
      "execution_count": null
    },
    {
      "source": [
        "`Algorithm: Randomforest classifier because it can capture non linearity and tends to not overfit.`\n",
        "`I'll check for imbalance and apply SMOTE to tackle class imbalance if there is any`\n",
        "`If there is any problem with the fitting, i'll use grid search cv for hyperparameter tuning`\n",
        "\n"
      ],
      "metadata": {
        "id": "8fed3e0d-9ce5-4d58-a73b-962659355924"
      },
      "cell_type": "markdown",
      "id": "8fed3e0d-9ce5-4d58-a73b-962659355924"
    },
    {
      "source": [
        "# check for class imbalance\n",
        "print(df['is_fraud'].value_counts())"
      ],
      "metadata": {
        "executionCancelledAt": null,
        "executionTime": 11,
        "lastExecutedAt": 1759703890235,
        "lastExecutedByKernel": "6568b305-0a99-496c-84b0-22f4c8a17995",
        "lastScheduledRunId": null,
        "lastSuccessfullyExecutedCode": "# check for class imbalance \nprint(df['is_fraud'].value_counts())",
        "id": "d554c940-66a0-4044-8afa-87d1d62f9880"
      },
      "cell_type": "code",
      "id": "d554c940-66a0-4044-8afa-87d1d62f9880",
      "outputs": [],
      "execution_count": null
    },
    {
      "source": [
        "# instantiate the model\n",
        "model = XGBClassifier(tree_method = \"gpu_hist\", predictor = \"gpu_predictor\", use_label_encoder = False, eval_metric = 'logloss', random_state = 50)\n",
        "param_grid = {\n",
        "    'model__n_estimators': randint(100,300),\n",
        "    'model__max_depth': randint(3,10),\n",
        "    'model__learning_rate': uniform(0.01,0.3),\n",
        "    'model__subsample': uniform(0.01,0.3),\n",
        "    'model__colsample_bytree': uniform(0.7, 0.3),\n",
        "    'model__gamma': uniform(0,0.4)\n",
        "}\n",
        "\n",
        "\n",
        "# split the data.\n",
        "X_train, X_test, y_train, y_test = train_test_split(X, y, test_size=0.3, random_state=7, stratify=y)\n",
        "\n",
        "# Find the minimum number of samples in any class in y_train\n",
        "from collections import Counter\n",
        "min_class_count = min(Counter(y_train).values())\n",
        "\n",
        "# Set k_neighbors to be at most min_class_count - 1 (minimum allowed by SMOTE)\n",
        "k_neighbors = min(5, min_class_count - 1) if min_class_count > 1 else 1\n",
        "\n",
        "smote = SMOTE(k_neighbors=k_neighbors, random_state = 7)\n",
        "\n",
        "model = XGBClassifier(tree_method = \"gpu_hist\", predictor = \"gpu_predictor\", use_label_encoder = False, eval_metric = 'logloss', random_state = 50)\n",
        "pipeline = Pipeline([\n",
        "    ('smote', smote),\n",
        "    ('model', XGBClassifier(tree_method = \"gpu_hist\", predictor = \"gpu_predictor\", use_label_encoder = False, eval_metric = 'logloss', random_state = 50))\n",
        "])\n",
        "\n",
        "search_model = RandomizedSearchCV(\n",
        "    estimator = pipeline,\n",
        "    param_distributions = param_grid,\n",
        "    n_iter = 20,\n",
        "    cv=5,\n",
        "    n_jobs=-1,\n",
        "    scoring = 'f1',\n",
        "    verbose = 1,\n",
        "    random_state = 7\n",
        ")\n",
        "\n",
        "search_model.fit(X_train, y_train)\n",
        "\n",
        "search_params = search_model.best_params_\n",
        "best_score = search_model.best_score_\n",
        "print(\"Best parameters:\", search_params)\n",
        "print(\"Best score:\", best_score)\n",
        "\n",
        "y_pred = search_model.predict(X_test)\n",
        "\n",
        "conf_matrix = confusion_matrix(y_test, y_pred)\n",
        "\n",
        "print(conf_matrix)"
      ],
      "metadata": {
        "executionCancelledAt": null,
        "executionTime": 92286,
        "lastExecutedAt": 1759706946927,
        "lastExecutedByKernel": "6568b305-0a99-496c-84b0-22f4c8a17995",
        "lastScheduledRunId": null,
        "lastSuccessfullyExecutedCode": "from imblearn.over_sampling import SMOTE\nfrom sklearn.ensemble import RandomForestClassifier\nfrom sklearn.model_selection import GridSearchCV, train_test_split\n\n# split the data. \nX_train, X_test, y_train, y_test = train_test_split(X, y, test_size=0.3, random_state=7, stratify=y)\n\n# Find the minimum number of samples in any class in y_train\nfrom collections import Counter\nmin_class_count = min(Counter(y_train).values())\n\n# Set k_neighbors to be at most min_class_count - 1 (minimum allowed by SMOTE)\nk_neighbors = min(5, min_class_count - 1) if min_class_count > 1 else 1\n\nsmote = SMOTE(k_neighbors=k_neighbors)\n\nX_resampled, y_resampled = smote.fit_resample(X_train, y_train)\n\n\nmodel = RandomForestClassifier(random_state=7)    \n\nmodel.fit(X_resampled, y_resampled)\n\ny_pred = model.predict(X_test)\n\nconf_matrix = confusion_matrix(y_test, y_pred)\n\nprint(conf_matrix)",
        "outputsMetadata": {
          "0": {
            "height": 38,
            "type": "stream"
          }
        },
        "colab": {
          "base_uri": "https://localhost:8080/"
        },
        "id": "1f5c8cf7-2b12-4c9e-8251-7d5c36ba376f",
        "outputId": "4768e1ef-9017-4939-cbeb-8b32de2e7453"
      },
      "cell_type": "code",
      "id": "1f5c8cf7-2b12-4c9e-8251-7d5c36ba376f",
      "outputs": [
        {
          "output_type": "stream",
          "name": "stdout",
          "text": [
            "Fitting 5 folds for each of 20 candidates, totalling 100 fits\n"
          ]
        },
        {
          "output_type": "stream",
          "name": "stderr",
          "text": [
            "/usr/local/lib/python3.12/dist-packages/xgboost/training.py:183: UserWarning: [03:18:19] WARNING: /workspace/src/common/error_msg.cc:27: The tree method `gpu_hist` is deprecated since 2.0.0. To use GPU training, set the `device` parameter to CUDA instead.\n",
            "\n",
            "    E.g. tree_method = \"hist\", device = \"cuda\"\n",
            "\n",
            "  bst.update(dtrain, iteration=i, fobj=obj)\n",
            "/usr/local/lib/python3.12/dist-packages/xgboost/training.py:183: UserWarning: [03:18:19] WARNING: /workspace/src/learner.cc:738: \n",
            "Parameters: { \"predictor\", \"use_label_encoder\" } are not used.\n",
            "\n",
            "  bst.update(dtrain, iteration=i, fobj=obj)\n"
          ]
        },
        {
          "output_type": "stream",
          "name": "stdout",
          "text": [
            "Best parameters: {'model__colsample_bytree': np.float64(0.9251229577306104), 'model__gamma': np.float64(0.2676052963535655), 'model__learning_rate': np.float64(0.1503258579234942), 'model__max_depth': 9, 'model__n_estimators': 259, 'model__subsample': np.float64(0.15722976672732114)}\n",
            "Best score: 0.7651170437711262\n",
            "[[101177    171]\n",
            " [   107    428]]\n"
          ]
        },
        {
          "output_type": "stream",
          "name": "stderr",
          "text": [
            "/usr/local/lib/python3.12/dist-packages/xgboost/core.py:2676: UserWarning: [03:18:20] WARNING: /workspace/src/common/error_msg.cc:27: The tree method `gpu_hist` is deprecated since 2.0.0. To use GPU training, set the `device` parameter to CUDA instead.\n",
            "\n",
            "    E.g. tree_method = \"hist\", device = \"cuda\"\n",
            "\n",
            "  if len(data.shape) != 1 and self.num_features() != data.shape[1]:\n"
          ]
        }
      ],
      "execution_count": 52
    },
    {
      "cell_type": "code",
      "source": [
        "print(confusion_matrix(y_test, y_pred))"
      ],
      "metadata": {
        "colab": {
          "base_uri": "https://localhost:8080/"
        },
        "id": "JEOOroOzXXMD",
        "outputId": "ff0044ab-37df-4b4a-9708-c5a67c0d582c"
      },
      "id": "JEOOroOzXXMD",
      "execution_count": 53,
      "outputs": [
        {
          "output_type": "stream",
          "name": "stdout",
          "text": [
            "[[101177    171]\n",
            " [   107    428]]\n"
          ]
        }
      ]
    },
    {
      "source": [
        "# check the metrics\n",
        "from sklearn.metrics import roc_auc_score\n",
        "\n",
        "proba = search_model.predict_proba(X_test)\n",
        "# Use the probabilities for the positive class (usually column 1)\n",
        "print(roc_auc_score(y_test, proba[:, 1]))\n",
        "\n",
        "# y_proba\n",
        "y_proba = search_model.predict_proba(X_test)[:,1]\n",
        "print(y_proba)\n",
        "\n",
        "# giving low threshold to y proba because recall is priortized over precision\n",
        "for t in [0.5,0.4,0.3,0.25]:\n",
        "  y_pred = (y_proba>t).astype(int)\n",
        "  print(classification_report(y_test,y_pred))\n",
        "#print(classification_report(y_test,y_pred) )\n",
        "\n",
        "\n",
        "\n"
      ],
      "metadata": {
        "executionCancelledAt": 1759703401456,
        "executionTime": 52,
        "lastExecutedAt": 1759700648752,
        "lastExecutedByKernel": "6568b305-0a99-496c-84b0-22f4c8a17995",
        "lastScheduledRunId": null,
        "lastSuccessfullyExecutedCode": "from sklearn.metrics import roc_auc_score\n\nprobs = grid_search_model.predict_proba(X_test)\n# Use the probabilities for the positive class (usually column 1)\nprint(roc_auc_score(y_test, probs[:, 1]))",
        "colab": {
          "base_uri": "https://localhost:8080/"
        },
        "id": "4f4b78dd-e836-45ee-949c-2c2d59aa30cd",
        "outputId": "de69de5e-3a99-4de6-d00e-cedd3dc383af"
      },
      "cell_type": "code",
      "id": "4f4b78dd-e836-45ee-949c-2c2d59aa30cd",
      "outputs": [
        {
          "output_type": "stream",
          "name": "stdout",
          "text": [
            "0.992740585874376\n",
            "[1.7918706e-05 7.4684605e-05 4.3841606e-05 ... 2.4552486e-04 1.5928084e-04\n",
            " 1.2917614e-06]\n",
            "              precision    recall  f1-score   support\n",
            "\n",
            "           0       1.00      1.00      1.00    101348\n",
            "           1       0.71      0.80      0.75       535\n",
            "\n",
            "    accuracy                           1.00    101883\n",
            "   macro avg       0.86      0.90      0.88    101883\n",
            "weighted avg       1.00      1.00      1.00    101883\n",
            "\n",
            "              precision    recall  f1-score   support\n",
            "\n",
            "           0       1.00      1.00      1.00    101348\n",
            "           1       0.66      0.81      0.73       535\n",
            "\n",
            "    accuracy                           1.00    101883\n",
            "   macro avg       0.83      0.91      0.86    101883\n",
            "weighted avg       1.00      1.00      1.00    101883\n",
            "\n",
            "              precision    recall  f1-score   support\n",
            "\n",
            "           0       1.00      1.00      1.00    101348\n",
            "           1       0.59      0.83      0.69       535\n",
            "\n",
            "    accuracy                           1.00    101883\n",
            "   macro avg       0.79      0.92      0.84    101883\n",
            "weighted avg       1.00      1.00      1.00    101883\n",
            "\n",
            "              precision    recall  f1-score   support\n",
            "\n",
            "           0       1.00      1.00      1.00    101348\n",
            "           1       0.55      0.84      0.66       535\n",
            "\n",
            "    accuracy                           1.00    101883\n",
            "   macro avg       0.77      0.92      0.83    101883\n",
            "weighted avg       1.00      1.00      1.00    101883\n",
            "\n"
          ]
        }
      ],
      "execution_count": 58
    },
    {
      "cell_type": "code",
      "source": [
        "# save the model\n",
        "import joblib\n",
        "joblib.dump(search_model, 'model_xgb_corr.pkl')"
      ],
      "metadata": {
        "colab": {
          "base_uri": "https://localhost:8080/"
        },
        "id": "kT3H0PUZYIh6",
        "outputId": "92bc0561-fa75-4fe7-e6cc-aeb57be79ee2"
      },
      "id": "kT3H0PUZYIh6",
      "execution_count": 56,
      "outputs": [
        {
          "output_type": "execute_result",
          "data": {
            "text/plain": [
              "['model_xgb_corr.pkl']"
            ]
          },
          "metadata": {},
          "execution_count": 56
        }
      ]
    },
    {
      "cell_type": "code",
      "source": [
        "# download the model\n",
        "from google.colab import files\n",
        "files.download('model_xgb_corr.pkl')"
      ],
      "metadata": {
        "colab": {
          "base_uri": "https://localhost:8080/",
          "height": 17
        },
        "id": "KVcURUKXZc64",
        "outputId": "8e1e92c2-d7a2-450a-ffd6-3ac01e002b24"
      },
      "id": "KVcURUKXZc64",
      "execution_count": 57,
      "outputs": [
        {
          "output_type": "display_data",
          "data": {
            "text/plain": [
              "<IPython.core.display.Javascript object>"
            ],
            "application/javascript": [
              "\n",
              "    async function download(id, filename, size) {\n",
              "      if (!google.colab.kernel.accessAllowed) {\n",
              "        return;\n",
              "      }\n",
              "      const div = document.createElement('div');\n",
              "      const label = document.createElement('label');\n",
              "      label.textContent = `Downloading \"${filename}\": `;\n",
              "      div.appendChild(label);\n",
              "      const progress = document.createElement('progress');\n",
              "      progress.max = size;\n",
              "      div.appendChild(progress);\n",
              "      document.body.appendChild(div);\n",
              "\n",
              "      const buffers = [];\n",
              "      let downloaded = 0;\n",
              "\n",
              "      const channel = await google.colab.kernel.comms.open(id);\n",
              "      // Send a message to notify the kernel that we're ready.\n",
              "      channel.send({})\n",
              "\n",
              "      for await (const message of channel.messages) {\n",
              "        // Send a message to notify the kernel that we're ready.\n",
              "        channel.send({})\n",
              "        if (message.buffers) {\n",
              "          for (const buffer of message.buffers) {\n",
              "            buffers.push(buffer);\n",
              "            downloaded += buffer.byteLength;\n",
              "            progress.value = downloaded;\n",
              "          }\n",
              "        }\n",
              "      }\n",
              "      const blob = new Blob(buffers, {type: 'application/binary'});\n",
              "      const a = document.createElement('a');\n",
              "      a.href = window.URL.createObjectURL(blob);\n",
              "      a.download = filename;\n",
              "      div.appendChild(a);\n",
              "      a.click();\n",
              "      div.remove();\n",
              "    }\n",
              "  "
            ]
          },
          "metadata": {}
        },
        {
          "output_type": "display_data",
          "data": {
            "text/plain": [
              "<IPython.core.display.Javascript object>"
            ],
            "application/javascript": [
              "download(\"download_e358f852-8058-49d3-8efe-c7e5b6ee957a\", \"model_xgb_corr.pkl\", 1838373)"
            ]
          },
          "metadata": {}
        }
      ]
    }
  ],
  "metadata": {
    "language_info": {
      "name": "python",
      "version": "3.10.12",
      "mimetype": "text/x-python",
      "codemirror_mode": {
        "name": "ipython",
        "version": 3
      },
      "pygments_lexer": "ipython3",
      "nbconvert_exporter": "python",
      "file_extension": ".py"
    },
    "kernelspec": {
      "display_name": "Python 3",
      "name": "python3"
    },
    "editor": "DataCamp Workspace",
    "colab": {
      "provenance": [],
      "gpuType": "T4"
    },
    "accelerator": "GPU"
  },
  "nbformat": 4,
  "nbformat_minor": 5
}